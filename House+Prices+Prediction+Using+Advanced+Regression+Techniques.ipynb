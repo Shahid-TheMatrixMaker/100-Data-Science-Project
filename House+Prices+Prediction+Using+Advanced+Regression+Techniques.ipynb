{
  "nbformat": 4,
  "nbformat_minor": 0,
  "metadata": {
    "colab": {
      "private_outputs": true,
      "provenance": [],
      "include_colab_link": true
    },
    "kernelspec": {
      "name": "python3",
      "display_name": "Python 3"
    },
    "language_info": {
      "name": "python"
    }
  },
  "cells": [
    {
      "cell_type": "markdown",
      "metadata": {
        "id": "view-in-github",
        "colab_type": "text"
      },
      "source": [
        "<a href=\"https://colab.research.google.com/github/Shahid-TheMatrixMaker/100-Data-Science-Project/blob/main/House%2BPrices%2BPrediction%2BUsing%2BAdvanced%2BRegression%2BTechniques.ipynb\" target=\"_parent\"><img src=\"https://colab.research.google.com/assets/colab-badge.svg\" alt=\"Open In Colab\"/></a>"
      ]
    },
    {
      "cell_type": "code",
      "execution_count": null,
      "metadata": {
        "id": "ovMCYAhfnWE3"
      },
      "outputs": [],
      "source": [
        "# Importing the needed libraries:\n",
        "import numpy as np\n",
        "import pandas as pd\n",
        "import matplotlib.pyplot as plt\n",
        "import seaborn as sns\n",
        "import re\n",
        "import string\n",
        "import nltk\n",
        "from nltk.corpus import stopwords #for cleaning\n",
        "from nltk.stem import LancasterStemmer ##for cleaning\n",
        "from scipy.sparse import csr_matrix\n",
        "from sklearn.model_selection import train_test_split\n",
        "from sklearn.linear_model import LinearRegression\n",
        "from sklearn.preprocessing import MinMaxScaler\n",
        "from sklearn.preprocessing import LabelEncoder\n",
        "from sklearn.feature_extraction.text import TfidfVectorizer\n",
        "from sklearn.metrics import r2_score\n",
        "from sklearn.impute import SimpleImputer\n",
        "import warnings\n",
        "warnings.filterwarnings(\"ignore\")\n",
        "\n"
      ]
    },
    {
      "cell_type": "code",
      "source": [
        "train_data = pd.read_csv('train.csv')\n",
        "test_data = pd.read_csv('test.csv')"
      ],
      "metadata": {
        "id": "8O50f4KhDC6E"
      },
      "execution_count": null,
      "outputs": []
    },
    {
      "cell_type": "code",
      "source": [
        "train_data.head()"
      ],
      "metadata": {
        "id": "KHXH8DdAJPqg"
      },
      "execution_count": null,
      "outputs": []
    },
    {
      "cell_type": "code",
      "source": [
        "test_data.head()"
      ],
      "metadata": {
        "id": "2PX4_IFPJSZA"
      },
      "execution_count": null,
      "outputs": []
    },
    {
      "cell_type": "code",
      "source": [
        "train_data.info()"
      ],
      "metadata": {
        "id": "3jAZyrG4LG66"
      },
      "execution_count": null,
      "outputs": []
    },
    {
      "cell_type": "code",
      "source": [
        "test_data.info()"
      ],
      "metadata": {
        "id": "IV-FAUfwLQ74"
      },
      "execution_count": null,
      "outputs": []
    },
    {
      "cell_type": "code",
      "source": [
        "sns.displot(train_data['SalePrice'])"
      ],
      "metadata": {
        "id": "8sA8fXBJDPc7"
      },
      "execution_count": null,
      "outputs": []
    },
    {
      "cell_type": "code",
      "source": [
        "corr = train_data.corr()['SalePrice']\n",
        "print(corr.sort_values())"
      ],
      "metadata": {
        "id": "Ah1MtWh7DViX"
      },
      "execution_count": null,
      "outputs": []
    },
    {
      "cell_type": "code",
      "source": [
        "missing = train_data.isnull().sum()\n",
        "print(missing)"
      ],
      "metadata": {
        "id": "VeOHHitsDWaE"
      },
      "execution_count": null,
      "outputs": []
    },
    {
      "cell_type": "code",
      "source": [
        "# Calculate the first quartile of the 'SalePrice' column\n",
        "Q1 = train_data['SalePrice'].quantile(0.25)\n",
        "# Calculate the third quartile of the 'SalePrice' column\n",
        "Q3 = train_data['SalePrice'].quantile(0.75)\n",
        "# Calculate the interquartile range of the 'SalePrice' column\n",
        "IQR = Q3 - Q1\n",
        "# Identify the outliers in the 'SalePrice' column\n",
        "outliers = train_data[(train_data['SalePrice'] < (Q1 - 1.5 * IQR)) | (train_data['SalePrice'] > (Q3 + 1.5 * IQR))]"
      ],
      "metadata": {
        "id": "7__X3pe8DZy8"
      },
      "execution_count": null,
      "outputs": []
    },
    {
      "cell_type": "code",
      "source": [
        "# Drop the outliers from the 'train_data' DataFrame\n",
        "train_data = train_data.drop(outliers.index)"
      ],
      "metadata": {
        "id": "Us6l8RfGK2cr"
      },
      "execution_count": null,
      "outputs": []
    },
    {
      "cell_type": "code",
      "source": [
        "numeric_columns_with_null = train_data.select_dtypes(include=['number']).columns[\n",
        "    train_data.select_dtypes(include=['number']).isnull().any()]\n",
        "\n",
        "object_columns_with_null = train_data.select_dtypes(exclude=['number']).columns[\n",
        "    train_data.select_dtypes(exclude=['number']).isnull().any()]"
      ],
      "metadata": {
        "id": "Of2jPhmXlP9A"
      },
      "execution_count": null,
      "outputs": []
    },
    {
      "cell_type": "code",
      "source": [
        "print(numeric_columns_with_null)"
      ],
      "metadata": {
        "id": "KMQXjWA9vawv"
      },
      "execution_count": null,
      "outputs": []
    },
    {
      "cell_type": "code",
      "source": [
        "print(object_columns_with_null)"
      ],
      "metadata": {
        "id": "_TZWTsYXva4o"
      },
      "execution_count": null,
      "outputs": []
    },
    {
      "cell_type": "code",
      "source": [
        "train_data[\"Alley\"]= train_data[\"Alley\"].fillna(\"No alley\")\n",
        "train_data[\"MasVnrType\"]= train_data[\"MasVnrType\"].fillna(\"unknown\")\n",
        "train_data[\"BsmtQual\"]= train_data[\"BsmtQual\"].fillna(\"No Basement\")\n",
        "train_data[\"BsmtCond\"]= train_data[\"BsmtCond\"].fillna(\"No Basement\")\n",
        "train_data[\"BsmtExposure\"]= train_data[\"BsmtExposure\"].fillna(\"No Basement\")\n",
        "train_data[\"BsmtFinType1\"]= train_data[\"BsmtFinType1\"].fillna(\"No Basement\")\n",
        "train_data[\"BsmtFinType2\"]= train_data[\"BsmtFinType2\"].fillna(\"No Basement\")\n",
        "train_data[\"Electrical\"]= train_data[\"Electrical\"].fillna(\"unknown\")\n",
        "train_data[\"FireplaceQu\"]= train_data[\"FireplaceQu\"].fillna(\"No Fireplace'\")\n",
        "train_data[\"GarageType\"]= train_data[\"GarageType\"].fillna(\"No Garage\")\n",
        "train_data[\"GarageFinish\"]= train_data[\"GarageFinish\"].fillna(\"No Garage\")\n",
        "train_data[\"GarageQual\"]= train_data[\"GarageQual\"].fillna(\"No Garage\")\n",
        "train_data[\"GarageCond\"]= train_data[\"GarageCond\"].fillna(\"No Garage\")\n",
        "train_data[\"PoolQC\"]= train_data[\"PoolQC\"].fillna(\"No Pool\")\n",
        "train_data[\"Fence\"]= train_data[\"Fence\"].fillna(\"No Fence\")\n",
        "train_data[\"MiscFeature\"]= train_data[\"MiscFeature\"].fillna(\"unknown\")"
      ],
      "metadata": {
        "id": "oUfPZNLwvhyi"
      },
      "execution_count": null,
      "outputs": []
    },
    {
      "cell_type": "code",
      "source": [
        "test_data[\"Alley\"]= test_data[\"Alley\"].fillna(\"No alley\")\n",
        "test_data[\"MasVnrType\"]= test_data[\"MasVnrType\"].fillna(\"unknown\")\n",
        "test_data[\"BsmtQual\"]= test_data[\"BsmtQual\"].fillna(\"No Basement\")\n",
        "test_data[\"BsmtCond\"]= test_data[\"BsmtCond\"].fillna(\"No Basement\")\n",
        "test_data[\"BsmtExposure\"]= test_data[\"BsmtExposure\"].fillna(\"No Basement\")\n",
        "test_data[\"BsmtFinType1\"]= test_data[\"BsmtFinType1\"].fillna(\"No Basement\")\n",
        "test_data[\"BsmtFinType2\"]= test_data[\"BsmtFinType2\"].fillna(\"No Basement\")\n",
        "test_data[\"Electrical\"]= test_data[\"Electrical\"].fillna(\"unknown\")\n",
        "test_data[\"FireplaceQu\"]= test_data[\"FireplaceQu\"].fillna(\"No Fireplace'\")\n",
        "test_data[\"GarageType\"]= test_data[\"GarageType\"].fillna(\"No Garage\")\n",
        "test_data[\"GarageFinish\"]= test_data[\"GarageFinish\"].fillna(\"No Garage\")\n",
        "test_data[\"GarageQual\"]= test_data[\"GarageQual\"].fillna(\"No Garage\")\n",
        "test_data[\"GarageCond\"]= test_data[\"GarageCond\"].fillna(\"No Garage\")\n",
        "test_data[\"PoolQC\"]= test_data[\"PoolQC\"].fillna(\"No Pool\")\n",
        "test_data[\"Fence\"]= test_data[\"Fence\"].fillna(\"No Fence\")\n",
        "test_data[\"MiscFeature\"]= test_data[\"MiscFeature\"].fillna(\"unknown\")"
      ],
      "metadata": {
        "id": "iEvoxqZb2QIp"
      },
      "execution_count": null,
      "outputs": []
    },
    {
      "cell_type": "code",
      "source": [
        "test_data.head()"
      ],
      "metadata": {
        "id": "YgR7-Cb2r4op"
      },
      "execution_count": null,
      "outputs": []
    },
    {
      "cell_type": "code",
      "source": [
        "# Fill the numeric Nan values\n",
        "numeric_columns = [\"LotFrontage\", \"MasVnrArea\", \"GarageYrBlt\"]\n",
        "numeric_imputer = SimpleImputer(strategy='mean')\n",
        "\n",
        "train_data[numeric_columns] = numeric_imputer.fit_transform(train_data[numeric_columns])\n",
        "test_data[numeric_columns] = numeric_imputer.transform(test_data[numeric_columns])"
      ],
      "metadata": {
        "id": "YtEnP14_2UGY"
      },
      "execution_count": null,
      "outputs": []
    },
    {
      "cell_type": "code",
      "source": [
        "Object1_columns = train_data.select_dtypes(include=['object']).columns\n",
        "Object2_columns = test_data.select_dtypes(include=['object']).columns\n",
        "label_encoder = LabelEncoder()\n",
        "\n",
        "for column in Object1_columns:\n",
        "    print(column)\n",
        "    train_data[column] = label_encoder.fit_transform(train_data[column])\n",
        "\n",
        "for column in Object2_columns:\n",
        "    print(column)\n",
        "    test_data[column] = label_encoder.fit_transform(test_data[column])"
      ],
      "metadata": {
        "id": "GPObAMrB-SXD"
      },
      "execution_count": null,
      "outputs": []
    },
    {
      "cell_type": "code",
      "source": [
        "# Feature Engineering and Multicollinearity Check\n",
        "# Feature Engineering:Creating a new feature by combining highly correlated features\n",
        "train_data[\"TotalSF\"] = train_data[\"1stFlrSF\"] + train_data[\"2ndFlrSF\"] + train_data[\"TotalBsmtSF\"]\n",
        "test_data[\"TotalSF\"] = test_data[\"1stFlrSF\"] + test_data[\"2ndFlrSF\"] + test_data[\"TotalBsmtSF\"]\n",
        "\n",
        "# Example: Creating a new feature by calculating the age of the house\n",
        "train_data[\"HouseAge\"] = train_data[\"YrSold\"] - train_data[\"YearBuilt\"]\n",
        "test_data[\"HouseAge\"] = test_data[\"YrSold\"] - test_data[\"YearBuilt\"]\n",
        "\n",
        "# Multicollinearity Check - Variance Inflation Factor (VIF):\n",
        "\n",
        "from statsmodels.stats.outliers_influence import variance_inflation_factor\n",
        "\n",
        "# Select the features you want to check for multicollinearity\n",
        "selected_features = [\"TotalSF\", \"HouseAge\", \"OverallQual\", \"OverallCond\"]\n",
        "\n",
        "# Calculate VIF scores for the selected features\n",
        "vif = pd.DataFrame()\n",
        "vif[\"Feature\"] = selected_features\n",
        "vif[\"VIF\"] = [variance_inflation_factor(train_data[selected_features].values, i) for i in range(len(selected_features))]\n",
        "\n",
        "# Display the VIF scores\n",
        "print(vif)"
      ],
      "metadata": {
        "id": "mG6x1dlE-ZLK"
      },
      "execution_count": null,
      "outputs": []
    },
    {
      "cell_type": "code",
      "source": [
        "plt.figure(figsize=(8, 6))\n",
        "sns.countplot(x=\"MSZoning\", data=train_data, palette=\"pastel\")\n",
        "plt.show()"
      ],
      "metadata": {
        "id": "gY8zKP9AX8qV"
      },
      "execution_count": null,
      "outputs": []
    },
    {
      "cell_type": "code",
      "source": [
        "plt.figure(figsize=(8, 6))\n",
        "sns.countplot(x=\"MSSubClass\", data=train_data, palette=\"YlGnBu\")\n",
        "plt.show()"
      ],
      "metadata": {
        "id": "2PnT25ItX9Jd"
      },
      "execution_count": null,
      "outputs": []
    },
    {
      "cell_type": "code",
      "source": [
        "plt.figure(figsize=(10, 8))\n",
        "sns.countplot(x=\"SaleCondition\", data=train_data, palette=\"pastel\")\n",
        "plt.yticks(np.arange(0, 2500, 100))\n",
        "plt.show()"
      ],
      "metadata": {
        "id": "WWhFRcgfX9Ux"
      },
      "execution_count": null,
      "outputs": []
    },
    {
      "cell_type": "code",
      "source": [
        "plt.figure(figsize=(8, 6))\n",
        "kind_counts = train_data[\"LotShape\"].value_counts()\n",
        "plt.pie(kind_counts, labels=kind_counts.index, autopct=\"%0.0f%%\")\n",
        "plt.show()"
      ],
      "metadata": {
        "id": "d3Z_E4n7X9rc"
      },
      "execution_count": null,
      "outputs": []
    },
    {
      "cell_type": "code",
      "source": [
        "plt.figure(figsize=(8, 6))\n",
        "kind_counts = train_data[\"LandContour\"].value_counts()\n",
        "plt.pie(kind_counts, labels=kind_counts.index, autopct=\"%0.0f%%\")\n",
        "plt.show()"
      ],
      "metadata": {
        "id": "_jtM6XQqYdeM"
      },
      "execution_count": null,
      "outputs": []
    },
    {
      "cell_type": "code",
      "source": [
        "plt.figure(figsize=(8, 6))\n",
        "sns.histplot(train_data['SalePrice'], bins=30, kde=True, color='#76698a')\n",
        "plt.show()"
      ],
      "metadata": {
        "id": "eYb3jnqeYdkl"
      },
      "execution_count": null,
      "outputs": []
    },
    {
      "cell_type": "code",
      "source": [
        "X_train = train_data.drop(columns=[\"SalePrice\", \"Id\"])\n",
        "y_train  = train_data[\"SalePrice\"]"
      ],
      "metadata": {
        "id": "jy1mzLlfezgG"
      },
      "execution_count": null,
      "outputs": []
    },
    {
      "cell_type": "code",
      "source": [
        "model = LinearRegression()\n",
        "model.fit(X_train ,y_train)"
      ],
      "metadata": {
        "id": "pOC4mRS-e0OC"
      },
      "execution_count": null,
      "outputs": []
    },
    {
      "cell_type": "code",
      "source": [
        "model.score(X_train ,y_train)"
      ],
      "metadata": {
        "id": "XEr_osAXfpA-"
      },
      "execution_count": null,
      "outputs": []
    },
    {
      "cell_type": "code",
      "source": [
        "from sklearn.model_selection import cross_val_score\n",
        "\n",
        "scores = cross_val_score(model, X_train, y_train, cv=5)\n",
        "print(scores)"
      ],
      "metadata": {
        "id": "0HVlHpqpn6uM"
      },
      "execution_count": null,
      "outputs": []
    },
    {
      "cell_type": "code",
      "source": [
        "from sklearn.linear_model import Ridge\n",
        "from sklearn.model_selection import GridSearchCV\n",
        "\n",
        "# Define the model and parameters\n",
        "model = Ridge()\n",
        "parameters = {'alpha': [0.1, 1, 10]}\n",
        "\n",
        "# Create GridSearchCV\n",
        "grid_search = GridSearchCV(model, parameters, cv=5)\n",
        "\n",
        "# Fit GridSearchCV\n",
        "grid_search.fit(X_train, y_train)\n",
        "\n",
        "# Get the best model\n",
        "best_model = grid_search.best_estimator_\n",
        "\n",
        "print(best_model)\n"
      ],
      "metadata": {
        "id": "hPXpP5OyoWj-"
      },
      "execution_count": null,
      "outputs": []
    }
  ]
}