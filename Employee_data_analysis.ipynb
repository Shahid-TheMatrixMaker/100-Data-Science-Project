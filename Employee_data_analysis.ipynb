{
  "nbformat": 4,
  "nbformat_minor": 0,
  "metadata": {
    "colab": {
      "provenance": [],
      "authorship_tag": "ABX9TyPcrnemjnBSmQ0NWXz+TNMv",
      "include_colab_link": true
    },
    "kernelspec": {
      "name": "python3",
      "display_name": "Python 3"
    },
    "language_info": {
      "name": "python"
    }
  },
  "cells": [
    {
      "cell_type": "markdown",
      "metadata": {
        "id": "view-in-github",
        "colab_type": "text"
      },
      "source": [
        "<a href=\"https://colab.research.google.com/github/Shahid-TheMatrixMaker/100-Data-Science-Project/blob/main/Employee_data_analysis.ipynb\" target=\"_parent\"><img src=\"https://colab.research.google.com/assets/colab-badge.svg\" alt=\"Open In Colab\"/></a>"
      ]
    },
    {
      "cell_type": "markdown",
      "source": [
        "Load the dataset\n"
      ],
      "metadata": {
        "id": "fLNNobQHMrpT"
      }
    },
    {
      "cell_type": "code",
      "execution_count": null,
      "metadata": {
        "colab": {
          "base_uri": "https://localhost:8080/"
        },
        "id": "CEuLqYEHlwMS",
        "outputId": "f96bd729-726f-4b4d-8199-bd9068d5f08f"
      },
      "outputs": [
        {
          "output_type": "stream",
          "name": "stdout",
          "text": [
            "     Name  Age  Salary Department\n",
            "0  Shahid   22    7500         HR\n",
            "1  Shakib   35    2000    Finance\n",
            "2  Sabbir   33    4500         IT\n",
            "3  Totini   24   34400         IT\n",
            "4   Farin   26   46000         HR\n"
          ]
        }
      ],
      "source": [
        "import pandas as pd\n",
        "\n",
        "data = { \"Name\": ['Shahid','Shakib','Sabbir','Totini','Farin'],\n",
        "        \"Age\": [22,35,33,24,26],\n",
        "         \"Salary\": [7500,2000,4500,34400,46000],\n",
        "         \"Department\": [\"HR\", \"Finance\", \"IT\", \"IT\", \"HR\"]\n",
        "}\n",
        "\n",
        "df = pd.DataFrame(data)\n",
        "print(df)\n"
      ]
    },
    {
      "cell_type": "markdown",
      "source": [
        "**Perform Basic operation**\n",
        "1. View the dataset\n"
      ],
      "metadata": {
        "id": "ypCqG0z8M7h7"
      }
    },
    {
      "cell_type": "code",
      "source": [
        "print(df.head())"
      ],
      "metadata": {
        "colab": {
          "base_uri": "https://localhost:8080/"
        },
        "id": "0EScusvMnu0W",
        "outputId": "9da25485-8ec3-4ea3-f820-5eed3a0fccd2"
      },
      "execution_count": null,
      "outputs": [
        {
          "output_type": "stream",
          "name": "stdout",
          "text": [
            "     Name  Age  Salary Department\n",
            "0  Shahid   22    7500         HR\n",
            "1  Shakib   35    2000    Finance\n",
            "2  Sabbir   33    4500         IT\n",
            "3  Totini   24   34400         IT\n",
            "4   Farin   26   46000         HR\n"
          ]
        }
      ]
    },
    {
      "cell_type": "markdown",
      "source": [
        "2. Summary Statistics"
      ],
      "metadata": {
        "id": "2PC6jHtaNbHW"
      }
    },
    {
      "cell_type": "code",
      "source": [
        "print(df.describe())"
      ],
      "metadata": {
        "colab": {
          "base_uri": "https://localhost:8080/"
        },
        "id": "34c8nCjSNLQ9",
        "outputId": "4c46e84c-c353-43ad-9363-e41d39babdc9"
      },
      "execution_count": null,
      "outputs": [
        {
          "output_type": "stream",
          "name": "stdout",
          "text": [
            "             Age        Salary\n",
            "count   5.000000      5.000000\n",
            "mean   28.000000  18880.000000\n",
            "std     5.700877  19984.919314\n",
            "min    22.000000   2000.000000\n",
            "25%    24.000000   4500.000000\n",
            "50%    26.000000   7500.000000\n",
            "75%    33.000000  34400.000000\n",
            "max    35.000000  46000.000000\n"
          ]
        }
      ]
    },
    {
      "cell_type": "markdown",
      "source": [
        "Check for null values"
      ],
      "metadata": {
        "id": "b2HyNlqrNw0j"
      }
    },
    {
      "cell_type": "code",
      "source": [
        "print(df.isnull().sum())"
      ],
      "metadata": {
        "colab": {
          "base_uri": "https://localhost:8080/"
        },
        "id": "1MbSMMlvNiU-",
        "outputId": "fabb43ad-e015-4f26-bb0c-fb50ff3a8b58"
      },
      "execution_count": null,
      "outputs": [
        {
          "output_type": "stream",
          "name": "stdout",
          "text": [
            "Name          0\n",
            "Age           0\n",
            "Salary        0\n",
            "Department    0\n",
            "dtype: int64\n"
          ]
        }
      ]
    },
    {
      "cell_type": "markdown",
      "source": [
        "**Analyze the data**\n",
        "1.Find the average age"
      ],
      "metadata": {
        "id": "ZnjT5yTUOAuz"
      }
    },
    {
      "cell_type": "code",
      "source": [
        "print(\"Average Age:\",df[\"Age\"].sum())"
      ],
      "metadata": {
        "colab": {
          "base_uri": "https://localhost:8080/"
        },
        "id": "RnxpdhhnN6-m",
        "outputId": "fae24d11-3714-494d-b086-588217d42cfd"
      },
      "execution_count": null,
      "outputs": [
        {
          "output_type": "stream",
          "name": "stdout",
          "text": [
            "Average Age: 140\n"
          ]
        }
      ]
    },
    {
      "cell_type": "markdown",
      "source": [
        "2. Filter employees from the IT Department"
      ],
      "metadata": {
        "id": "XcYX1TLZOjGf"
      }
    },
    {
      "cell_type": "code",
      "source": [
        "it_employees = df[df[\"Department\"]=='IT']\n",
        "print(it_employees)"
      ],
      "metadata": {
        "colab": {
          "base_uri": "https://localhost:8080/"
        },
        "id": "q34rifD2OZny",
        "outputId": "d70c3f4a-bdf9-43ab-ef3f-f7008bd14a4c"
      },
      "execution_count": null,
      "outputs": [
        {
          "output_type": "stream",
          "name": "stdout",
          "text": [
            "     Name  Age  Salary Department\n",
            "2  Sabbir   33    4500         IT\n",
            "3  Totini   24   34400         IT\n"
          ]
        }
      ]
    },
    {
      "cell_type": "markdown",
      "source": [
        "Find the employee with highest salary"
      ],
      "metadata": {
        "id": "GOm2_xJiPpc-"
      }
    },
    {
      "cell_type": "code",
      "source": [
        "Highest_Salary = df[df['Salary']==df['Salary'].max()]\n",
        "print(Highest_Salary)"
      ],
      "metadata": {
        "colab": {
          "base_uri": "https://localhost:8080/"
        },
        "id": "Va94HVvDO785",
        "outputId": "154139a1-d278-4e50-e225-955f2a4abfd6"
      },
      "execution_count": null,
      "outputs": [
        {
          "output_type": "stream",
          "name": "stdout",
          "text": [
            "    Name  Age  Salary Department\n",
            "4  Farin   26   46000         HR\n"
          ]
        }
      ]
    },
    {
      "cell_type": "markdown",
      "source": [
        "**Visualize the data**\n",
        "Use matplotlib or seaborn to create a bar chart of salaries"
      ],
      "metadata": {
        "id": "PUeMCp3WQz_X"
      }
    },
    {
      "cell_type": "code",
      "source": [
        "import matplotlib.pyplot as plt\n",
        "#set figure size to make the plot smaller\n",
        "\n",
        "plt.figure(figsize = (4,2)) # width = 5 inches, Height = 3 inches\n",
        "\n",
        "# Create the bar plot\n",
        "plt.bar(df[\"Name\"], df[\"Salary\"], color = 'blue')\n",
        "\n",
        "# Add labels and titles\n",
        "plt.xlabel('Employee Name')\n",
        "plt.ylabel('Salary')\n",
        "plt.title('Employee Salary')\n",
        "\n",
        "#Display the plot\n",
        "plt.show()"
      ],
      "metadata": {
        "colab": {
          "base_uri": "https://localhost:8080/",
          "height": 256
        },
        "id": "OtRtb5PHQD2M",
        "outputId": "84a7b967-42c0-4f1a-dc62-65b51ee98153"
      },
      "execution_count": null,
      "outputs": [
        {
          "output_type": "display_data",
          "data": {
            "text/plain": [
              "<Figure size 400x200 with 1 Axes>"
            ],
            "image/png": "[encoded data removed]"
          },
          "metadata": {}
        }
      ]
    },
    {
      "cell_type": "code",
      "source": [],
      "metadata": {
        "id": "IWhkQrHwSF6S"
      },
      "execution_count": null,
      "outputs": []
    }
  ]
}