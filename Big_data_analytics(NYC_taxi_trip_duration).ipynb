{
  "nbformat": 4,
  "nbformat_minor": 0,
  "metadata": {
    "colab": {
      "provenance": [],
      "authorship_tag": "ABX9TyOX0twVZOOalGEQS4q2yUv/",
      "include_colab_link": true
    },
    "kernelspec": {
      "name": "python3",
      "display_name": "Python 3"
    },
    "language_info": {
      "name": "python"
    }
  },
  "cells": [
    {
      "cell_type": "markdown",
      "metadata": {
        "id": "view-in-github",
        "colab_type": "text"
      },
      "source": [
        "<a href=\"https://colab.research.google.com/github/Shahid-TheMatrixMaker/100-Data-Science-Project/blob/main/Big_data_analytics(NYC_taxi_trip_duration).ipynb\" target=\"_parent\"><img src=\"https://colab.research.google.com/assets/colab-badge.svg\" alt=\"Open In Colab\"/></a>"
      ]
    },
    {
      "cell_type": "code",
      "execution_count": 2,
      "metadata": {
        "colab": {
          "base_uri": "https://localhost:8080/"
        },
        "id": "fmNgejXpgusT",
        "outputId": "a88bba3b-c599-4f16-ae64-7132e092c9b6"
      },
      "outputs": [
        {
          "output_type": "stream",
          "name": "stdout",
          "text": [
            "Requirement already satisfied: pyspark in /usr/local/lib/python3.10/dist-packages (3.5.3)\n",
            "Requirement already satisfied: py4j==0.10.9.7 in /usr/local/lib/python3.10/dist-packages (from pyspark) (0.10.9.7)\n",
            "root\n",
            " |-- id: string (nullable = true)\n",
            " |-- vendor_id: integer (nullable = true)\n",
            " |-- pickup_datetime: string (nullable = true)\n",
            " |-- dropoff_datetime: string (nullable = true)\n",
            " |-- passenger_count: string (nullable = true)\n",
            " |-- pickup_longitude: string (nullable = true)\n",
            " |-- pickup_latitude: string (nullable = true)\n",
            " |-- dropoff_longitude: string (nullable = true)\n",
            " |-- dropoff_latitude: string (nullable = true)\n",
            " |-- store_and_fwd_flag: string (nullable = true)\n",
            " |-- trip_duration: double (nullable = true)\n",
            "\n"
          ]
        }
      ],
      "source": [
        "!pip install pyspark\n",
        "# Importing necessary libraries\n",
        "from pyspark.sql import SparkSession\n",
        "\n",
        "# Creating a SparkSession\n",
        "spark = SparkSession.builder.appName(\"BigDataAnalytics\").getOrCreate()\n",
        "\n",
        "# Reading the dataset\n",
        "data = spark.read.csv(\"nyc_taxi_trip_duration.csv\", header=True, inferSchema=True)\n",
        "\n",
        "# Displaying the dataset schema\n",
        "data.printSchema()"
      ]
    },
    {
      "cell_type": "code",
      "source": [
        "# Counting the number of records in the dataset\n",
        "record_count = data.count()\n",
        "print(\"Number of records:\", record_count)"
      ],
      "metadata": {
        "colab": {
          "base_uri": "https://localhost:8080/"
        },
        "id": "1tQTrRlyh1za",
        "outputId": "150781c4-9bdd-481a-ce3c-8112fcd6e7ae"
      },
      "execution_count": 3,
      "outputs": [
        {
          "output_type": "stream",
          "name": "stdout",
          "text": [
            "Number of records: 1405272\n"
          ]
        }
      ]
    },
    {
      "cell_type": "code",
      "source": [
        "# Summary statistics of the trip duration\n",
        "data.describe(\"trip_duration\").show()"
      ],
      "metadata": {
        "colab": {
          "base_uri": "https://localhost:8080/"
        },
        "id": "F6sJ7s-NigT3",
        "outputId": "135c0216-8f07-4f1b-a244-d17d1bc3b692"
      },
      "execution_count": 4,
      "outputs": [
        {
          "output_type": "stream",
          "name": "stdout",
          "text": [
            "+-------+------------------+\n",
            "|summary|     trip_duration|\n",
            "+-------+------------------+\n",
            "|  count|           1405266|\n",
            "|   mean| 960.6385712514409|\n",
            "| stddev|5307.2626194870045|\n",
            "|    min| -74.0025863647461|\n",
            "|    max|         3526282.0|\n",
            "+-------+------------------+\n",
            "\n"
          ]
        }
      ]
    },
    {
      "cell_type": "code",
      "source": [
        "# Dropping irrelevant columns\n",
        "data = data.drop(\"id\", \"vendor_id\",  \"dropoff_datetime\", \"store_and_fwd_flag\")"
      ],
      "metadata": {
        "id": "oIUYp-_Dij8y"
      },
      "execution_count": 5,
      "outputs": []
    },
    {
      "cell_type": "code",
      "source": [
        "# Handling missing values\n",
        "data = data.dropna()"
      ],
      "metadata": {
        "id": "hYwM8roGiooX"
      },
      "execution_count": 7,
      "outputs": []
    },
    {
      "cell_type": "code",
      "source": [
        "# Checking for duplicates\n",
        "duplicate_count = data.count() - data.dropDuplicates().count()\n",
        "print(\"Number of duplicates:\", duplicate_count)"
      ],
      "metadata": {
        "colab": {
          "base_uri": "https://localhost:8080/"
        },
        "id": "r3wunIkcitLU",
        "outputId": "7779d1e3-0031-4756-f25b-6197d2292511"
      },
      "execution_count": 8,
      "outputs": [
        {
          "output_type": "stream",
          "name": "stdout",
          "text": [
            "Number of duplicates: 7\n"
          ]
        }
      ]
    },
    {
      "cell_type": "code",
      "source": [
        "data.printSchema()"
      ],
      "metadata": {
        "colab": {
          "base_uri": "https://localhost:8080/"
        },
        "id": "OTDEmFMwiwue",
        "outputId": "c4f87806-24e6-4d99-aa74-500dbcb1b02c"
      },
      "execution_count": 9,
      "outputs": [
        {
          "output_type": "stream",
          "name": "stdout",
          "text": [
            "root\n",
            " |-- pickup_datetime: string (nullable = true)\n",
            " |-- passenger_count: string (nullable = true)\n",
            " |-- pickup_longitude: string (nullable = true)\n",
            " |-- pickup_latitude: string (nullable = true)\n",
            " |-- dropoff_longitude: string (nullable = true)\n",
            " |-- dropoff_latitude: string (nullable = true)\n",
            " |-- trip_duration: double (nullable = true)\n",
            "\n"
          ]
        }
      ]
    },
    {
      "cell_type": "code",
      "source": [
        "# Importing necessary libraries\n",
        "from pyspark.sql.functions import col, hour, dayofweek"
      ],
      "metadata": {
        "id": "NxqFNM31i0pM"
      },
      "execution_count": 10,
      "outputs": []
    },
    {
      "cell_type": "code",
      "source": [
        "# Adding new features\n",
        "data = data.withColumn(\"pickup_hour\", hour(col(\"pickup_datetime\")))\n",
        "data = data.withColumn(\"pickup_dayofweek\", dayofweek(col(\"pickup_datetime\")))"
      ],
      "metadata": {
        "id": "cAvbfBJzi4dk"
      },
      "execution_count": 11,
      "outputs": []
    },
    {
      "cell_type": "code",
      "source": [
        "# Aggregating and summarizing data\n",
        "avg_duration_by_hour = data.groupBy(\"pickup_hour\").avg(\"trip_duration\").orderBy(\"pickup_hour\")\n",
        "avg_duration_by_day = data.groupBy(\"pickup_dayofweek\").avg(\"trip_duration\").orderBy(\"pickup_dayofweek\")"
      ],
      "metadata": {
        "id": "EvRBBLSJi7xy"
      },
      "execution_count": 12,
      "outputs": []
    },
    {
      "cell_type": "code",
      "source": [
        "# Displaying the results\n",
        "avg_duration_by_hour.show()\n",
        "avg_duration_by_day.show()"
      ],
      "metadata": {
        "colab": {
          "base_uri": "https://localhost:8080/"
        },
        "id": "TwS_H8Nti_Bx",
        "outputId": "4b5b5985-4747-466d-e917-3a7a8a002f06"
      },
      "execution_count": 13,
      "outputs": [
        {
          "output_type": "stream",
          "name": "stdout",
          "text": [
            "+-----------+------------------+\n",
            "|pickup_hour|avg(trip_duration)|\n",
            "+-----------+------------------+\n",
            "|          0| 940.1783214738279|\n",
            "|          1| 905.2830772542583|\n",
            "|          2| 893.5509886114924|\n",
            "|          3| 892.6217542120912|\n",
            "|          4| 917.2844646145751|\n",
            "|          5| 826.0058958174377|\n",
            "|          6| 801.4365722838967|\n",
            "|          7| 832.3298182089663|\n",
            "|          8| 924.7684474046143|\n",
            "|          9| 930.8332131735975|\n",
            "|         10| 934.1298833079655|\n",
            "|         11| 969.6136118986612|\n",
            "|         12|  995.394534697007|\n",
            "|         13|1031.7570278439432|\n",
            "|         14|1079.1338143378498|\n",
            "|         15|1120.5581647398844|\n",
            "|         16|1079.5566256896718|\n",
            "|         17|1030.7646292653144|\n",
            "|         18| 982.6789967789636|\n",
            "|         19| 892.9769751291901|\n",
            "+-----------+------------------+\n",
            "only showing top 20 rows\n",
            "\n",
            "+----------------+------------------+\n",
            "|pickup_dayofweek|avg(trip_duration)|\n",
            "+----------------+------------------+\n",
            "|               1| 905.5598295380654|\n",
            "|               2| 897.8354573336138|\n",
            "|               3| 982.3554674024457|\n",
            "|               4| 975.7281230379822|\n",
            "|               5|1006.7252314834907|\n",
            "|               6| 992.0844263132002|\n",
            "|               7| 950.9405439446562|\n",
            "+----------------+------------------+\n",
            "\n"
          ]
        }
      ]
    },
    {
      "cell_type": "code",
      "source": [
        "# Importing necessary libraries\n",
        "import matplotlib.pyplot as plt"
      ],
      "metadata": {
        "id": "3gLwEpQ0jCav"
      },
      "execution_count": 14,
      "outputs": []
    },
    {
      "cell_type": "code",
      "source": [
        "# Converting DataFrame to Pandas DataFrame for visualization\n",
        "pandas_data = data.toPandas()"
      ],
      "metadata": {
        "id": "Nlziy1KCjGSK"
      },
      "execution_count": 15,
      "outputs": []
    },
    {
      "cell_type": "code",
      "source": [
        "pandas_data.head()"
      ],
      "metadata": {
        "colab": {
          "base_uri": "https://localhost:8080/",
          "height": 313
        },
        "id": "-gK3ZFuZjJbk",
        "outputId": "ce463b5c-c580-4353-a903-de6470eea392"
      },
      "execution_count": 16,
      "outputs": [
        {
          "output_type": "execute_result",
          "data": {
            "text/plain": [
              "       pickup_datetime passenger_count     pickup_longitude  \\\n",
              "0  2016-03-14 17:24:55               1  -73.982154846191406   \n",
              "1  2016-06-12 00:43:35               1  -73.980415344238281   \n",
              "2  2016-01-19 11:35:24               1  -73.979026794433594   \n",
              "3  2016-04-06 19:32:31               1  -74.010040283203125   \n",
              "4  2016-03-26 13:30:55               1  -73.973052978515625   \n",
              "\n",
              "      pickup_latitude    dropoff_longitude    dropoff_latitude  trip_duration  \\\n",
              "0  40.767936706542969  -73.964630126953125  40.765602111816406          455.0   \n",
              "1  40.738563537597656  -73.999481201171875  40.731151580810547          663.0   \n",
              "2  40.763938903808594  -74.005332946777344  40.710086822509766         2124.0   \n",
              "3     40.719970703125   -74.01226806640625  40.706718444824219          429.0   \n",
              "4  40.793209075927734  -73.972923278808594  40.782520294189453          435.0   \n",
              "\n",
              "   pickup_hour  pickup_dayofweek  \n",
              "0           17                 2  \n",
              "1            0                 1  \n",
              "2           11                 3  \n",
              "3           19                 4  \n",
              "4           13                 7  "
            ],
            "text/html": [
              "\n",
              "  <div id=\"df-8ea1876d-3015-480f-b702-aaef28615a24\" class=\"colab-df-container\">\n",
              "    <div>\n",
              "<style scoped>\n",
              "    .dataframe tbody tr th:only-of-type {\n",
              "        vertical-align: middle;\n",
              "    }\n",
              "\n",
              "    .dataframe tbody tr th {\n",
              "        vertical-align: top;\n",
              "    }\n",
              "\n",
              "    .dataframe thead th {\n",
              "        text-align: right;\n",
              "    }\n",
              "</style>\n",
              "<table border=\"1\" class=\"dataframe\">\n",
              "  <thead>\n",
              "    <tr style=\"text-align: right;\">\n",
              "      <th></th>\n",
              "      <th>pickup_datetime</th>\n",
              "      <th>passenger_count</th>\n",
              "      <th>pickup_longitude</th>\n",
              "      <th>pickup_latitude</th>\n",
              "      <th>dropoff_longitude</th>\n",
              "      <th>dropoff_latitude</th>\n",
              "      <th>trip_duration</th>\n",
              "      <th>pickup_hour</th>\n",
              "      <th>pickup_dayofweek</th>\n",
              "    </tr>\n",
              "  </thead>\n",
              "  <tbody>\n",
              "    <tr>\n",
              "      <th>0</th>\n",
              "      <td>2016-03-14 17:24:55</td>\n",
              "      <td>1</td>\n",
              "      <td>-73.982154846191406</td>\n",
              "      <td>40.767936706542969</td>\n",
              "      <td>-73.964630126953125</td>\n",
              "      <td>40.765602111816406</td>\n",
              "      <td>455.0</td>\n",
              "      <td>17</td>\n",
              "      <td>2</td>\n",
              "    </tr>\n",
              "    <tr>\n",
              "      <th>1</th>\n",
              "      <td>2016-06-12 00:43:35</td>\n",
              "      <td>1</td>\n",
              "      <td>-73.980415344238281</td>\n",
              "      <td>40.738563537597656</td>\n",
              "      <td>-73.999481201171875</td>\n",
              "      <td>40.731151580810547</td>\n",
              "      <td>663.0</td>\n",
              "      <td>0</td>\n",
              "      <td>1</td>\n",
              "    </tr>\n",
              "    <tr>\n",
              "      <th>2</th>\n",
              "      <td>2016-01-19 11:35:24</td>\n",
              "      <td>1</td>\n",
              "      <td>-73.979026794433594</td>\n",
              "      <td>40.763938903808594</td>\n",
              "      <td>-74.005332946777344</td>\n",
              "      <td>40.710086822509766</td>\n",
              "      <td>2124.0</td>\n",
              "      <td>11</td>\n",
              "      <td>3</td>\n",
              "    </tr>\n",
              "    <tr>\n",
              "      <th>3</th>\n",
              "      <td>2016-04-06 19:32:31</td>\n",
              "      <td>1</td>\n",
              "      <td>-74.010040283203125</td>\n",
              "      <td>40.719970703125</td>\n",
              "      <td>-74.01226806640625</td>\n",
              "      <td>40.706718444824219</td>\n",
              "      <td>429.0</td>\n",
              "      <td>19</td>\n",
              "      <td>4</td>\n",
              "    </tr>\n",
              "    <tr>\n",
              "      <th>4</th>\n",
              "      <td>2016-03-26 13:30:55</td>\n",
              "      <td>1</td>\n",
              "      <td>-73.973052978515625</td>\n",
              "      <td>40.793209075927734</td>\n",
              "      <td>-73.972923278808594</td>\n",
              "      <td>40.782520294189453</td>\n",
              "      <td>435.0</td>\n",
              "      <td>13</td>\n",
              "      <td>7</td>\n",
              "    </tr>\n",
              "  </tbody>\n",
              "</table>\n",
              "</div>\n",
              "    <div class=\"colab-df-buttons\">\n",
              "\n",
              "  <div class=\"colab-df-container\">\n",
              "    <button class=\"colab-df-convert\" onclick=\"convertToInteractive('df-8ea1876d-3015-480f-b702-aaef28615a24')\"\n",
              "            title=\"Convert this dataframe to an interactive table.\"\n",
              "            style=\"display:none;\">\n",
              "\n",
              "  <svg xmlns=\"http://www.w3.org/2000/svg\" height=\"24px\" viewBox=\"0 -960 960 960\">\n",
              "    <path d=\"M120-120v-720h720v720H120Zm60-500h600v-160H180v160Zm220 220h160v-160H400v160Zm0 220h160v-160H400v160ZM180-400h160v-160H180v160Zm440 0h160v-160H620v160ZM180-180h160v-160H180v160Zm440 0h160v-160H620v160Z\"/>\n",
              "  </svg>\n",
              "    </button>\n",
              "\n",
              "  <style>\n",
              "    .colab-df-container {\n",
              "      display:flex;\n",
              "      gap: 12px;\n",
              "    }\n",
              "\n",
              "    .colab-df-convert {\n",
              "      background-color: #E8F0FE;\n",
              "      border: none;\n",
              "      border-radius: 50%;\n",
              "      cursor: pointer;\n",
              "      display: none;\n",
              "      fill: #1967D2;\n",
              "      height: 32px;\n",
              "      padding: 0 0 0 0;\n",
              "      width: 32px;\n",
              "    }\n",
              "\n",
              "    .colab-df-convert:hover {\n",
              "      background-color: #E2EBFA;\n",
              "      box-shadow: 0px 1px 2px rgba(60, 64, 67, 0.3), 0px 1px 3px 1px rgba(60, 64, 67, 0.15);\n",
              "      fill: #174EA6;\n",
              "    }\n",
              "\n",
              "    .colab-df-buttons div {\n",
              "      margin-bottom: 4px;\n",
              "    }\n",
              "\n",
              "    [theme=dark] .colab-df-convert {\n",
              "      background-color: #3B4455;\n",
              "      fill: #D2E3FC;\n",
              "    }\n",
              "\n",
              "    [theme=dark] .colab-df-convert:hover {\n",
              "      background-color: #434B5C;\n",
              "      box-shadow: 0px 1px 3px 1px rgba(0, 0, 0, 0.15);\n",
              "      filter: drop-shadow(0px 1px 2px rgba(0, 0, 0, 0.3));\n",
              "      fill: #FFFFFF;\n",
              "    }\n",
              "  </style>\n",
              "\n",
              "    <script>\n",
              "      const buttonEl =\n",
              "        document.querySelector('#df-8ea1876d-3015-480f-b702-aaef28615a24 button.colab-df-convert');\n",
              "      buttonEl.style.display =\n",
              "        google.colab.kernel.accessAllowed ? 'block' : 'none';\n",
              "\n",
              "      async function convertToInteractive(key) {\n",
              "        const element = document.querySelector('#df-8ea1876d-3015-480f-b702-aaef28615a24');\n",
              "        const dataTable =\n",
              "          await google.colab.kernel.invokeFunction('convertToInteractive',\n",
              "                                                    [key], {});\n",
              "        if (!dataTable) return;\n",
              "\n",
              "        const docLinkHtml = 'Like what you see? Visit the ' +\n",
              "          '<a target=\"_blank\" href=https://colab.research.google.com/notebooks/data_table.ipynb>data table notebook</a>'\n",
              "          + ' to learn more about interactive tables.';\n",
              "        element.innerHTML = '';\n",
              "        dataTable['output_type'] = 'display_data';\n",
              "        await google.colab.output.renderOutput(dataTable, element);\n",
              "        const docLink = document.createElement('div');\n",
              "        docLink.innerHTML = docLinkHtml;\n",
              "        element.appendChild(docLink);\n",
              "      }\n",
              "    </script>\n",
              "  </div>\n",
              "\n",
              "\n",
              "<div id=\"df-0dae9004-89bb-4558-9b7e-88f59b7327e9\">\n",
              "  <button class=\"colab-df-quickchart\" onclick=\"quickchart('df-0dae9004-89bb-4558-9b7e-88f59b7327e9')\"\n",
              "            title=\"Suggest charts\"\n",
              "            style=\"display:none;\">\n",
              "\n",
              "<svg xmlns=\"http://www.w3.org/2000/svg\" height=\"24px\"viewBox=\"0 0 24 24\"\n",
              "     width=\"24px\">\n",
              "    <g>\n",
              "        <path d=\"M19 3H5c-1.1 0-2 .9-2 2v14c0 1.1.9 2 2 2h14c1.1 0 2-.9 2-2V5c0-1.1-.9-2-2-2zM9 17H7v-7h2v7zm4 0h-2V7h2v10zm4 0h-2v-4h2v4z\"/>\n",
              "    </g>\n",
              "</svg>\n",
              "  </button>\n",
              "\n",
              "<style>\n",
              "  .colab-df-quickchart {\n",
              "      --bg-color: #E8F0FE;\n",
              "      --fill-color: #1967D2;\n",
              "      --hover-bg-color: #E2EBFA;\n",
              "      --hover-fill-color: #174EA6;\n",
              "      --disabled-fill-color: #AAA;\n",
              "      --disabled-bg-color: #DDD;\n",
              "  }\n",
              "\n",
              "  [theme=dark] .colab-df-quickchart {\n",
              "      --bg-color: #3B4455;\n",
              "      --fill-color: #D2E3FC;\n",
              "      --hover-bg-color: #434B5C;\n",
              "      --hover-fill-color: #FFFFFF;\n",
              "      --disabled-bg-color: #3B4455;\n",
              "      --disabled-fill-color: #666;\n",
              "  }\n",
              "\n",
              "  .colab-df-quickchart {\n",
              "    background-color: var(--bg-color);\n",
              "    border: none;\n",
              "    border-radius: 50%;\n",
              "    cursor: pointer;\n",
              "    display: none;\n",
              "    fill: var(--fill-color);\n",
              "    height: 32px;\n",
              "    padding: 0;\n",
              "    width: 32px;\n",
              "  }\n",
              "\n",
              "  .colab-df-quickchart:hover {\n",
              "    background-color: var(--hover-bg-color);\n",
              "    box-shadow: 0 1px 2px rgba(60, 64, 67, 0.3), 0 1px 3px 1px rgba(60, 64, 67, 0.15);\n",
              "    fill: var(--button-hover-fill-color);\n",
              "  }\n",
              "\n",
              "  .colab-df-quickchart-complete:disabled,\n",
              "  .colab-df-quickchart-complete:disabled:hover {\n",
              "    background-color: var(--disabled-bg-color);\n",
              "    fill: var(--disabled-fill-color);\n",
              "    box-shadow: none;\n",
              "  }\n",
              "\n",
              "  .colab-df-spinner {\n",
              "    border: 2px solid var(--fill-color);\n",
              "    border-color: transparent;\n",
              "    border-bottom-color: var(--fill-color);\n",
              "    animation:\n",
              "      spin 1s steps(1) infinite;\n",
              "  }\n",
              "\n",
              "  @keyframes spin {\n",
              "    0% {\n",
              "      border-color: transparent;\n",
              "      border-bottom-color: var(--fill-color);\n",
              "      border-left-color: var(--fill-color);\n",
              "    }\n",
              "    20% {\n",
              "      border-color: transparent;\n",
              "      border-left-color: var(--fill-color);\n",
              "      border-top-color: var(--fill-color);\n",
              "    }\n",
              "    30% {\n",
              "      border-color: transparent;\n",
              "      border-left-color: var(--fill-color);\n",
              "      border-top-color: var(--fill-color);\n",
              "      border-right-color: var(--fill-color);\n",
              "    }\n",
              "    40% {\n",
              "      border-color: transparent;\n",
              "      border-right-color: var(--fill-color);\n",
              "      border-top-color: var(--fill-color);\n",
              "    }\n",
              "    60% {\n",
              "      border-color: transparent;\n",
              "      border-right-color: var(--fill-color);\n",
              "    }\n",
              "    80% {\n",
              "      border-color: transparent;\n",
              "      border-right-color: var(--fill-color);\n",
              "      border-bottom-color: var(--fill-color);\n",
              "    }\n",
              "    90% {\n",
              "      border-color: transparent;\n",
              "      border-bottom-color: var(--fill-color);\n",
              "    }\n",
              "  }\n",
              "</style>\n",
              "\n",
              "  <script>\n",
              "    async function quickchart(key) {\n",
              "      const quickchartButtonEl =\n",
              "        document.querySelector('#' + key + ' button');\n",
              "      quickchartButtonEl.disabled = true;  // To prevent multiple clicks.\n",
              "      quickchartButtonEl.classList.add('colab-df-spinner');\n",
              "      try {\n",
              "        const charts = await google.colab.kernel.invokeFunction(\n",
              "            'suggestCharts', [key], {});\n",
              "      } catch (error) {\n",
              "        console.error('Error during call to suggestCharts:', error);\n",
              "      }\n",
              "      quickchartButtonEl.classList.remove('colab-df-spinner');\n",
              "      quickchartButtonEl.classList.add('colab-df-quickchart-complete');\n",
              "    }\n",
              "    (() => {\n",
              "      let quickchartButtonEl =\n",
              "        document.querySelector('#df-0dae9004-89bb-4558-9b7e-88f59b7327e9 button');\n",
              "      quickchartButtonEl.style.display =\n",
              "        google.colab.kernel.accessAllowed ? 'block' : 'none';\n",
              "    })();\n",
              "  </script>\n",
              "</div>\n",
              "\n",
              "    </div>\n",
              "  </div>\n"
            ],
            "application/vnd.google.colaboratory.intrinsic+json": {
              "type": "dataframe",
              "variable_name": "pandas_data"
            }
          },
          "metadata": {},
          "execution_count": 16
        }
      ]
    },
    {
      "cell_type": "code",
      "source": [
        "# Plotting trip duration distribution\n",
        "plt.hist(pandas_data[\"trip_duration\"], bins=30, edgecolor=\"black\")\n",
        "plt.xlabel(\"Trip Duration (seconds)\")\n",
        "plt.ylabel(\"Frequency\")\n",
        "plt.title(\"Distribution of Trip Durations\")\n",
        "plt.show()"
      ],
      "metadata": {
        "colab": {
          "base_uri": "https://localhost:8080/",
          "height": 472
        },
        "id": "ECxt_MeFjMtu",
        "outputId": "2019aeca-10b5-4342-bca3-0ee0088cd26b"
      },
      "execution_count": 17,
      "outputs": [
        {
          "output_type": "display_data",
          "data": {
            "text/plain": [
              "<Figure size 640x480 with 1 Axes>"
            ],
            "image/png": "[encoded data removed]"
          },
          "metadata": {}
        }
      ]
    },
    {
      "cell_type": "code",
      "source": [
        "# Plotting average trip duration by hour\n",
        "plt.plot(avg_duration_by_hour.toPandas()[\"pickup_hour\"], avg_duration_by_hour.toPandas()[\"avg(trip_duration)\"])\n",
        "plt.xlabel(\"Pickup Hour\")\n",
        "plt.ylabel(\"Average Trip Duration (seconds)\")\n",
        "plt.title(\"Average Trip Duration by Hour\")\n",
        "plt.show()"
      ],
      "metadata": {
        "colab": {
          "base_uri": "https://localhost:8080/",
          "height": 472
        },
        "id": "kZBGJguCjQD-",
        "outputId": "9e0545db-2f34-4cc6-e477-c16fb4ff4039"
      },
      "execution_count": 18,
      "outputs": [
        {
          "output_type": "display_data",
          "data": {
            "text/plain": [
              "<Figure size 640x480 with 1 Axes>"
            ],
            "image/png": "[encoded data removed]"
          },
          "metadata": {}
        }
      ]
    },
    {
      "cell_type": "code",
      "source": [],
      "metadata": {
        "id": "DRsZcLjQjTXz"
      },
      "execution_count": null,
      "outputs": []
    }
  ]
}